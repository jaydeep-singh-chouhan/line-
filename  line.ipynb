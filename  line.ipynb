{
  "nbformat": 4,
  "nbformat_minor": 0,
  "metadata": {
    "colab": {
      "name": "Untitled5.ipynb",
      "provenance": [],
      "authorship_tag": "ABX9TyMWjUC6fi74fTQWFt+YTTXw",
      "include_colab_link": true
    },
    "kernelspec": {
      "name": "python3",
      "display_name": "Python 3"
    },
    "language_info": {
      "name": "python"
    }
  },
  "cells": [
    {
      "cell_type": "markdown",
      "metadata": {
        "id": "view-in-github",
        "colab_type": "text"
      },
      "source": [
        "<a href=\"https://colab.research.google.com/github/jaydeep-singh-chouhan/line-/blob/main/%20line.ipynb\" target=\"_parent\"><img src=\"https://colab.research.google.com/assets/colab-badge.svg\" alt=\"Open In Colab\"/></a>"
      ]
    },
    {
      "cell_type": "code",
      "metadata": {
        "id": "_YgS8r1pkKox"
      },
      "source": [
        "import numpy as np\n",
        "import math\n",
        "import matplotlib.pyplot as plt\n",
        "\n",
        "def line_gen(A,B):\n",
        "  len =10\n",
        "  x_AB = np.zeros((2,len))\n",
        "  lam_1 = np.linspace(0,1,len)\n",
        "  for i in range(len):\n",
        "    temp1 = A + lam_1[i]*(B-A)\n",
        "    x_AB[:,i]= temp1.T\n",
        "  return x_AB"
      ],
      "execution_count": 68,
      "outputs": []
    },
    {
      "cell_type": "code",
      "metadata": {
        "colab": {
          "base_uri": "https://localhost:8080/",
          "height": 332
        },
        "id": "UMWYXYZEknvb",
        "outputId": "679d828e-e815-45b4-bb04-cccad467919a"
      },
      "source": [
        "#converting in cartesian\n",
        "r1=3\n",
        "a=(math.pi/3)\n",
        "r2=4\n",
        "b=(math.pi/6)\n",
        "x1=r1*math.cos(a)\n",
        "y1=r1*math.sin(a)\n",
        "x2=r2*math.cos(b)\n",
        "y2=r2*math.sin(b)\n",
        "\n",
        "p=np.array([x1,y1])\n",
        "q=np.array([x2,y2])\n",
        "c=line_gen(p,q)\n",
        "print(c)\n",
        "plt.plot(c[0],c[1],'xb-')\n",
        "plt.grid(True)"
      ],
      "execution_count": 77,
      "outputs": [
        {
          "output_type": "stream",
          "name": "stdout",
          "text": [
            "[[1.5        1.71823351 1.93646703 2.15470054 2.37293405 2.59116756\n",
            "  2.80940108 3.02763459 3.2458681  3.46410162]\n",
            " [2.59807621 2.5316233  2.46517039 2.39871747 2.33226456 2.26581165\n",
            "  2.19935874 2.13290582 2.06645291 2.        ]]\n"
          ]
        },
        {
          "output_type": "display_data",
          "data": {
            "image/png": "[encoded data removed]",
            "text/plain": [
              "<Figure size 432x288 with 1 Axes>"
            ]
          },
          "metadata": {
            "needs_background": "light"
          }
        }
      ]
    }
  ]
}